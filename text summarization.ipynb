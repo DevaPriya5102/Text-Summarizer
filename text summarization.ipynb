{
 "cells": [
  {
   "cell_type": "code",
   "execution_count": 1,
   "metadata": {},
   "outputs": [
    {
     "data": {
      "text/plain": [
       "True"
      ]
     },
     "execution_count": 1,
     "metadata": {},
     "output_type": "execute_result"
    }
   ],
   "source": [
    "import os \n",
    "from dotenv import load_dotenv\n",
    "load_dotenv()"
   ]
  },
  {
   "cell_type": "code",
   "execution_count": 10,
   "metadata": {},
   "outputs": [
    {
     "data": {
      "text/plain": [
       "ChatGroq(client=<groq.resources.chat.completions.Completions object at 0x0000014F9ED49810>, async_client=<groq.resources.chat.completions.AsyncCompletions object at 0x0000014F9ED4A7D0>, model_name='Gemma2-9b-it', model_kwargs={}, groq_api_key=SecretStr('**********'))"
      ]
     },
     "execution_count": 10,
     "metadata": {},
     "output_type": "execute_result"
    }
   ],
   "source": [
    "from langchain_groq import ChatGroq\n",
    "api_key=os.getenv(\"GROQ_API_KEY\")\n",
    "llm=ChatGroq(groq_api_key=api_key,model=\"Gemma2-9b-it\")\n",
    "llm"
   ]
  },
  {
   "cell_type": "code",
   "execution_count": 11,
   "metadata": {},
   "outputs": [],
   "source": [
    "from langchain.schema import (\n",
    "    AIMessage,\n",
    "    HumanMessage, SystemMessage\n",
    ")\n"
   ]
  },
  {
   "cell_type": "code",
   "execution_count": 12,
   "metadata": {},
   "outputs": [],
   "source": [
    "speech=\"\"\" Thank you, Mark – it’s very good to be here.\n",
    "\n",
    "I should say it’s very good to be back here.\n",
    "\n",
    "And as you know, the UK’s commitment to NATO is stronger than ever –\n",
    "\n",
    "Because the need for NATO is clearer than ever.\n",
    "\n",
    "We’ve had a very good and productive discussion today…\n",
    "\n",
    "On how we can meet the rising threats that Russia poses across our continent…\n",
    "\n",
    "Including the situation, of course, in Ukraine.\n",
    "\n",
    "A couple of weeks ago, as you know, I was in Kyiv…\n",
    "\n",
    "I saw residential buildings, destroyed just days before.\n",
    "\n",
    "I met soldiers in the ICU…\n",
    "\n",
    "Recovering from really terrible burns.\n",
    "\n",
    "And I met children, whose parents are out there now…\n",
    "\n",
    "On the frontline.\n",
    "\n",
    "And, it’s yet another reminder…\n",
    "\n",
    "That this is a not a war not just in Ukraine…\n",
    "\n",
    "It’s a war on Ukraine…\n",
    "\n",
    "Against those children and their future.\n",
    "\n",
    "That’s why – together –\n",
    "\n",
    "We stand with them.\n",
    "\n",
    "We are all working to end this war…\n",
    "\n",
    "But let’s be absolutely clear –\n",
    "\n",
    "Peace will come through strength.\n",
    "\n",
    "And we must do all we can now to support Ukraine’s defence…\n",
    "\n",
    "And that means stabilising the front line…\n",
    "\n",
    "Providing the kit and the training they need.\n",
    "\n",
    "And that’s why, this year…\n",
    "\n",
    "The UK will give more military support to Ukraine than ever\n",
    "\n",
    "before.\n",
    "\n",
    "We need to see all allies stepping up – particularly in Europe.\n",
    "\n",
    "President Trump has threatened more sanctions on Russia…\n",
    "\n",
    "And it’s clear that that’s got Putin rattled.\n",
    "\n",
    "We know that he’s worried about the state of the Russian economy.\n",
    "\n",
    "So I’m here to work with our European partners on keeping up the\n",
    "\n",
    "pressure…\n",
    "\n",
    "Targeting the energy revenues and the companies supplying his\n",
    "\n",
    "missile factories…\n",
    "\n",
    "To crush Putin’s war machine.\n",
    "\n",
    "Because ultimately –\n",
    "\n",
    "Alongside our military support…\n",
    "\n",
    "That is what will bring peace closer.\n",
    "\n",
    "And we must keep working together to bolster NATO.\n",
    "\n",
    "And as you say, things that would have provoked utter outrage, just a few years\n",
    "\n",
    "ago…\n",
    "\n",
    "Have now become almost commonplace:\n",
    "\n",
    "Russian spy ships loitering off the British coast…\n",
    "\n",
    "A campaign of sabotage across Europe…\n",
    "\n",
    "Cyber-attacks, election interference, and attempted assassinations.\n",
    "\n",
    "Russia is seeking to destabilise our continent – target our values.\n",
    "\n",
    "So we should still be outraged.\n",
    "\n",
    "And we must harden European’s defence.\n",
    "\n",
    "In the UK we are proud to be a leading NATO ally…\n",
    "\n",
    "Part of the Forward Land Forces…            \n",
    "\n",
    "Helping to police our skies and patrol our seas.\n",
    "\n",
    "Our defence spending is of course 2.3% of GDP now…\n",
    "\n",
    "And we are working hard work to set the path to 2.5%…\n",
    "\n",
    "And NATO plans and requirements…\n",
    "\n",
    "As well as the principle of “NATO First”…\n",
    "\n",
    "Will be at the heart of our Strategic Defence Review this year.\n",
    "\n",
    "Across Europe, we must shoulder more of the burden now –\n",
    "\n",
    "Because it is our burden to carry.\n",
    "\n",
    "Now that’s what I’ll be discussing at the EU Council this evening.\n",
    "\n",
    "We want to deliver an ambitious UK-EU Security partnership…\n",
    "\n",
    "To bolster NATO…\n",
    "\n",
    "Covering military technology and R&D…\n",
    "\n",
    "Improving the mobility of forces across Europe…\n",
    "\n",
    "Protecting our critical infrastructure…\n",
    "\n",
    "And deepening our industrial collaboration to increase defence production.\n",
    "\n",
    "We can’t be commentators when it comes to matters of peace on\n",
    "\n",
    "our continent.\n",
    "\n",
    "We must lead. \n",
    "\n",
    "And that is what I’m determined to do.\n",
    "\n",
    "Thank you so much Mark.\n",
    "\n",
    "\"\"\"\n",
    "\n"
   ]
  },
  {
   "cell_type": "code",
   "execution_count": 13,
   "metadata": {},
   "outputs": [
    {
     "data": {
      "text/plain": [
       "' Thank you, Mark – it’s very good to be here.\\n\\nI should say it’s very good to be back here.\\n\\nAnd as you know, the UK’s commitment to NATO is stronger than ever –\\n\\nBecause the need for NATO is clearer than ever.\\n\\nWe’ve had a very good and productive discussion today…\\n\\nOn how we can meet the rising threats that Russia poses across our continent…\\n\\nIncluding the situation, of course, in Ukraine.\\n\\nA couple of weeks ago, as you know, I was in Kyiv…\\n\\nI saw residential buildings, destroyed just days before.\\n\\nI met soldiers in the ICU…\\n\\nRecovering from really terrible burns.\\n\\nAnd I met children, whose parents are out there now…\\n\\nOn the frontline.\\n\\nAnd, it’s yet another reminder…\\n\\nThat this is a not a war not just in Ukraine…\\n\\nIt’s a war on Ukraine…\\n\\nAgainst those children and their future.\\n\\nThat’s why – together –\\n\\nWe stand with them.\\n\\nWe are all working to end this war…\\n\\nBut let’s be absolutely clear –\\n\\nPeace will come through strength.\\n\\nAnd we must do all we can now to support Ukraine’s defence…\\n\\nAnd that means stabilising the front line…\\n\\nProviding the kit and the training they need.\\n\\nAnd that’s why, this year…\\n\\nThe UK will give more military support to Ukraine than ever\\n\\nbefore.\\n\\nWe need to see all allies stepping up – particularly in Europe.\\n\\nPresident Trump has threatened more sanctions on Russia…\\n\\nAnd it’s clear that that’s got Putin rattled.\\n\\nWe know that he’s worried about the state of the Russian economy.\\n\\nSo I’m here to work with our European partners on keeping up the\\n\\npressure…\\n\\nTargeting the energy revenues and the companies supplying his\\n\\nmissile factories…\\n\\nTo crush Putin’s war machine.\\n\\nBecause ultimately –\\n\\nAlongside our military support…\\n\\nThat is what will bring peace closer.\\n\\nAnd we must keep working together to bolster NATO.\\n\\nAnd as you say, things that would have provoked utter outrage, just a few years\\n\\nago…\\n\\nHave now become almost commonplace:\\n\\nRussian spy ships loitering off the British coast…\\n\\nA campaign of sabotage across Europe…\\n\\nCyber-attacks, election interference, and attempted assassinations.\\n\\nRussia is seeking to destabilise our continent – target our values.\\n\\nSo we should still be outraged.\\n\\nAnd we must harden European’s defence.\\n\\nIn the UK we are proud to be a leading NATO ally…\\n\\nPart of the Forward Land Forces…            \\n\\nHelping to police our skies and patrol our seas.\\n\\nOur defence spending is of course 2.3% of GDP now…\\n\\nAnd we are working hard work to set the path to 2.5%…\\n\\nAnd NATO plans and requirements…\\n\\nAs well as the principle of “NATO First”…\\n\\nWill be at the heart of our Strategic Defence Review this year.\\n\\nAcross Europe, we must shoulder more of the burden now –\\n\\nBecause it is our burden to carry.\\n\\nNow that’s what I’ll be discussing at the EU Council this evening.\\n\\nWe want to deliver an ambitious UK-EU Security partnership…\\n\\nTo bolster NATO…\\n\\nCovering military technology and R&D…\\n\\nImproving the mobility of forces across Europe…\\n\\nProtecting our critical infrastructure…\\n\\nAnd deepening our industrial collaboration to increase defence production.\\n\\nWe can’t be commentators when it comes to matters of peace on\\n\\nour continent.\\n\\nWe must lead. \\n\\nAnd that is what I’m determined to do.\\n\\nThank you so much Mark.\\n\\n'"
      ]
     },
     "execution_count": 13,
     "metadata": {},
     "output_type": "execute_result"
    }
   ],
   "source": [
    "speech"
   ]
  },
  {
   "cell_type": "code",
   "execution_count": 23,
   "metadata": {},
   "outputs": [],
   "source": [
    "chat_message=[\n",
    "    SystemMessage(content=\"You are expert with expertise in summarizing speeches\"),\n",
    "    HumanMessage(content=f\"Please provide a short and concise summary of the following speech:\\n, Text:{speech}\")\n",
    "\n",
    "]"
   ]
  },
  {
   "cell_type": "code",
   "execution_count": 24,
   "metadata": {},
   "outputs": [
    {
     "data": {
      "text/plain": [
       "874"
      ]
     },
     "execution_count": 24,
     "metadata": {},
     "output_type": "execute_result"
    }
   ],
   "source": [
    "llm.get_num_tokens(speech)"
   ]
  },
  {
   "cell_type": "code",
   "execution_count": null,
   "metadata": {},
   "outputs": [
    {
     "data": {
      "text/plain": [
       "\"The speech emphasizes the UK's unwavering commitment to NATO and its support for Ukraine in the face of Russian aggression. \\n\\nThe speaker highlights the devastating impact of the war on Ukrainian civilians and stresses that peace will only come through strength. He announces increased military aid to Ukraine, calls for European allies to step up, and vows to work with partners to cripple Russia's war machine through sanctions and pressure on its energy revenues and military supply chains.\\n\\nHe also condemns Russia's destabilizing actions across Europe, urging the continent to strengthen its defenses and take a more proactive role in ensuring peace. The speaker concludes by outlining the UK's commitment to a strong UK-EU security partnership to bolster NATO and lead the way in protecting European security.\\n\\n\\n\\n\""
      ]
     },
     "execution_count": 26,
     "metadata": {},
     "output_type": "execute_result"
    }
   ],
   "source": [
    "## getting the summary\n",
    "llm(chat_message).content"
   ]
  },
  {
   "cell_type": "code",
   "execution_count": 27,
   "metadata": {},
   "outputs": [
    {
     "data": {
      "text/plain": [
       "PromptTemplate(input_variables=['language', 'speech'], input_types={}, partial_variables={}, template='\"\\nWrite a summary of the following speech:\\nSpeech:{speech}\\nTranslate the precise summary to {language}\\n')"
      ]
     },
     "execution_count": 27,
     "metadata": {},
     "output_type": "execute_result"
    }
   ],
   "source": [
    "#prompt template\n",
    "\n",
    "from langchain.chains import LLMChain\n",
    "from langchain import PromptTemplate\n",
    "\n",
    "genericprompt = \"\"\"\"\n",
    "Write a summary of the following speech:\n",
    "Speech:{speech}\n",
    "Translate the precise summary to {language}\n",
    "\"\"\"\n",
    "\n",
    "prompt = PromptTemplate(\n",
    "    input_variables=['speech','language'],\n",
    "    template=genericprompt\n",
    ")\n",
    "prompt"
   ]
  },
  {
   "cell_type": "code",
   "execution_count": 29,
   "metadata": {},
   "outputs": [],
   "source": [
    "complete_prompt=prompt.format(speech=speech, language =\"French\")"
   ]
  },
  {
   "cell_type": "code",
   "execution_count": 30,
   "metadata": {},
   "outputs": [
    {
     "data": {
      "text/plain": [
       "897"
      ]
     },
     "execution_count": 30,
     "metadata": {},
     "output_type": "execute_result"
    }
   ],
   "source": [
    "llm.get_num_tokens(complete_prompt)"
   ]
  },
  {
   "cell_type": "code",
   "execution_count": 34,
   "metadata": {},
   "outputs": [
    {
     "data": {
      "text/plain": [
       "'## ప్రసంగ సారాంశం (తెలుగులో)\\n\\nఈ ప్రసంగం లో, మాజీ ప్రధానమంత్రి యు.కే. నుండి ప్రసంగిస్తూ నాటోకి యు.కే. నిర్ధారణ మరింత బలం కలిగిందని, \\n\\nమరియు రష్యా నుంచి వచ్చే ఆందోళనలను ఎదుర్కొనేందుకు నాటో అవసరం ఎంతగానో కొరవడినదని చెబుతుంది.\\n\\nrecently Ukraine లోని Kyiv వెళ్ళినప్పుడు, నాటో సభ్యులకు  నూతనంగా నేరలు, దాడులు, రష్యా సైనికుల దారుణాలను చూపిస్తూ, వారిపై కేంద్రీకృతంగా దాడి చేస్తున్నారని వెల్లడిస్తుంది.\\n\\nUkraine లోని ప్రజలను మద్దతుగా ఉంచడం, వారి కోసం శక్తిని కూడా అందించడం అవసరం అని తేవ్వుతుంది. \\n\\nయు.కే. ఈ సంవత్సరం Ukraine కు అత్యంత అధిక మిలిటరీ సహాయాన్ని అందించాలని సభ్యులను ఉద్దేశిస్తుంది. \\n\\n\\nPutin ని అణిచివేయడానికి, రష్యా వ్యవస్థను అస్థిరపరిచేందుకు, ఆయన డబ్బులను మరియు ఆయన వ్యవస్థను దెబ్బతీయడానికి, ప్రధానంగా ఆయన బాణాల నిర్మాణంలో ఉన్న కంపెనీలను లక్ష్యంగా చేసుకోవాలని చెబుతుంది. \\n\\nRussia యొక్క ప్రతికూల వ్యవహారాలను ఎదుర్కొనేందుకు, నాటోను వెనుకలేకుండా, \\n\\nయు.కే. సభ్యులను ఉద్దేశిస్తూ, \\n\\nప్రస్తుత సమస్యలను తట్టుకునేందుకు, \\n\\nEUతో  భద్రత సహకారాన్ని బలోపేతం చేయడానికి, \\n\\nనాటోని బలపరచడానికి, \\n\\nరక్షణ ఫలింపును మరింత పెంచుకోవడానికి ప్రయత్నం చేస్తున్నట్టు సూచిస్తుంది.\\n\\nప్రసంగం ముగిసే వరకు, యు.కే. నాటో సభ్యులందరినీ మద్దతుగా ఉంచడం, \\n\\nRussi a ని అణిచివేయడం, \\n\\nనాయకత్వం వహించడం, \\n\\nమరియు యు.కే. సభ్యులకు వీలైనంతగా సహాయం అందించడం అనే అంశాలపై దృష్టి పెట్టుకుంటూ ఉంటుంది.\\n\\n\\n\\n'"
      ]
     },
     "execution_count": 34,
     "metadata": {},
     "output_type": "execute_result"
    }
   ],
   "source": [
    "llm_chain = LLMChain(llm=llm,prompt=prompt)\n",
    "summary=llm_chain.run({'speech':speech,'language':'telugu'})\n",
    "summary"
   ]
  },
  {
   "cell_type": "markdown",
   "metadata": {},
   "source": [
    "# Stuff Document Chain"
   ]
  },
  {
   "cell_type": "code",
   "execution_count": 35,
   "metadata": {},
   "outputs": [
    {
     "data": {
      "text/plain": [
       "[Document(metadata={'source': 'ihaveadream.pdf', 'page': 0}, page_content='©2014 The Gilder Lehrman Institute of American History \\nwww.gilderlehrman.org \\n“I Have a Dream” Speech by the Rev. Martin Luther King Jr. at the “March on Washington,” \\n1963 (excerpts ) \\n \\nI am happy to join with you today in what will go down in history as the greatest demonstration for \\nfreedom in the history of our nation. \\nFive score years ago a great American in whose symbolic shadow we stand today signed the \\nEmancipation Proclamation. This momentous decree is a great beacon light of hope to millions of Negro \\nslaves who had been seared in the flames of withering injustice. It came as a joyous daybreak to end the \\nlong night of their captivity. But 100 years later the Negro still is not free. One hundred years later the \\nlife of the Negro is still badly crippled by the manacles of segregation and the chains of discrimination. \\nOne hundred years later the Negro lives on a lonely island of poverty in the midst of a vast ocean of \\nmaterial prosperity. One hundred years later the Negro is still languished in the corners of American \\nsociety and finds himself in exile in his own land. So we’ve come here today to dramatize a shameful \\ncondition. \\nIn a sense we’ve come to our nation’s capital to cash a check. When the architects of our Republic wrote \\nthe magnificent words of the Constitution and the Declaration of Independence, they were signing a \\npromissory note to which every American was to fall heir. This note was a promise that all men—yes, \\nblack men as well as white men—would be guaranteed the unalienable rights of life, liberty and the \\npursuit of happiness. . . . \\nWe must forever conduct our struggle on the high plane of dignity and discipline. We must not allow our \\ncreative protests to degenerate into physical violence. . . . The marvelous new militancy which has \\nengulfed the Negro community must not lead us to distrust all white people, for many of our white \\nbrothers, as evidenced by their presence here today, have come to realize that their destiny is tied up \\nwith our destiny. \\n. . . We cannot walk alone. And as we walk we must make the pledge that we shall always march ahead. \\nWe cannot turn back. There are those who are asking the devotees of civil rights, “When will you be \\nsatisfied?” We can never be satisfied as long as the Negro is the victim of the unspeakable horrors of \\npolice brutality. \\nWe can never be satisfied as long as our bodies, heavy with the fatigue of travel, cannot gain lodging in \\nthe motels of the highways and the hotels of the cities. \\nWe cannot be satisfied as long as the Negro’s basic mobility is from a smaller ghetto to a larger one. We \\ncan never be satisfied as long as our children are stripped of their adulthood and robbed of their dignity \\nby signs stating “For Whites Only.” \\nWe cannot be satisfied as long as the Negro in Mississippi cannot vote and the Negro in New York \\nbelieves he has nothing for which to vote. \\nNo, no, we are not satisfied, and we will not be satisfied until justice rolls down like waters and \\nrighteousness like a mighty stream. . . . \\nI say to you today, my friends, though, even though we face the difficulties of today and tomorrow, I still'),\n",
       " Document(metadata={'source': 'ihaveadream.pdf', 'page': 1}, page_content='©2014 The Gilder Lehrman Institute of American History \\nwww.gilderlehrman.org \\nhave a dream. It is a dream deeply rooted in the American dream. I have a dream that one day this \\nnation will rise up, live out the true meaning of its creed: “We hold these truths to be self-evident, that \\nall men are created equal.” \\nI have a dream that one day on the red hills of Georgia sons of former slaves and the sons of former \\nslave-owners will be able to sit down together at the table of brotherhood. I have a dream that one day \\neven the state of Mississippi, a state sweltering with the heat of injustice, sweltering with the heat of \\noppression, will be transformed into an oasis of freedom and justice. \\nI have a dream that my four little children will one day live in a nation where they will not be judged by \\nthe color of their skin but by the content of their character. I have a dream . . . I have a dream that one \\nday in Alabama, with its vicious racists, with its governor having his lips dripping with the words of \\ninterposition and nullification, one day right there in Alabama little black boys and black girls will be able \\nto join hands with little white boys and white girls as sisters and brothers. \\nI have a dream today . . . \\nThis will be the day when all of God’s children will be able to sing with new meaning. “My country, ’tis of \\nthee, sweet land of liberty, of thee I sing. Land where my fathers died, land of the pilgrim’s pride, from \\nevery mountain side, let freedom ring.” And if America is to be a great nation, this must become true. So \\nlet freedom ring from the prodigious hilltops of New Hampshire. Let freedom ring from the mighty \\nmountains of New York. Let freedom ring from the heightening Alleghenies of Pennsylvania. Let \\nfreedom ring from the snowcapped Rockies of Colorado. Let freedom ring from the curvaceous slopes of \\nCalifornia. \\nBut not only that. Let freedom ring from Stone Mountain of Georgia. Let freedom ring from Lookout \\nMountain of Tennessee. Let freedom ring from every hill and molehill of Mississippi, from every \\nmountain side. Let freedom ring . . . \\nWhen we allow freedom to ring—when we let it ring from every city and every hamlet, from every state \\nand every city, we will be able to speed up that day when all of God’s children, black men and white \\nmen, Jews and Gentiles, Protestants and Catholics, will be able to join hands and sing in the words of the \\nold Negro spiritual, “Free at last, Free at last, Great God a-mighty, We are free at last.” \\n \\n \\nReprinted by arrangement with The Heirs to the Estate of Martin Luther King Jr., c/o Writers House as the \\nproprietor New York, NY. Copyright: © 1963 Dr. Martin Luther King Jr. © renewed 1991 Coretta Scott King.')]"
      ]
     },
     "execution_count": 35,
     "metadata": {},
     "output_type": "execute_result"
    }
   ],
   "source": [
    "from langchain_community.document_loaders import PyPDFLoader\n",
    "\n",
    "loader = PyPDFLoader(\"ihaveadream.pdf\")\n",
    "docs=loader.load_and_split()\n",
    "docs"
   ]
  },
  {
   "cell_type": "code",
   "execution_count": 36,
   "metadata": {},
   "outputs": [],
   "source": [
    "template = \"\"\" \n",
    "Write a concise and short summary of the following speech, Speech:{text}\n",
    "\"\"\"\n",
    "\n",
    "prompt = PromptTemplate(input_variable=['text'],\n",
    "                        template=template)"
   ]
  },
  {
   "cell_type": "code",
   "execution_count": 37,
   "metadata": {},
   "outputs": [],
   "source": [
    "from langchain.chains.summarize import load_summarize_chain\n"
   ]
  },
  {
   "cell_type": "code",
   "execution_count": 38,
   "metadata": {},
   "outputs": [
    {
     "name": "stdout",
     "output_type": "stream",
     "text": [
      "\n",
      "\n",
      "\u001b[1m> Entering new StuffDocumentsChain chain...\u001b[0m\n",
      "\n",
      "\n",
      "\u001b[1m> Entering new LLMChain chain...\u001b[0m\n",
      "Prompt after formatting:\n",
      "\u001b[32;1m\u001b[1;3m \n",
      "Write a concise and short summary of the following speech, Speech:©2014 The Gilder Lehrman Institute of American History \n",
      "www.gilderlehrman.org \n",
      "“I Have a Dream” Speech by the Rev. Martin Luther King Jr. at the “March on Washington,” \n",
      "1963 (excerpts ) \n",
      " \n",
      "I am happy to join with you today in what will go down in history as the greatest demonstration for \n",
      "freedom in the history of our nation. \n",
      "Five score years ago a great American in whose symbolic shadow we stand today signed the \n",
      "Emancipation Proclamation. This momentous decree is a great beacon light of hope to millions of Negro \n",
      "slaves who had been seared in the flames of withering injustice. It came as a joyous daybreak to end the \n",
      "long night of their captivity. But 100 years later the Negro still is not free. One hundred years later the \n",
      "life of the Negro is still badly crippled by the manacles of segregation and the chains of discrimination. \n",
      "One hundred years later the Negro lives on a lonely island of poverty in the midst of a vast ocean of \n",
      "material prosperity. One hundred years later the Negro is still languished in the corners of American \n",
      "society and finds himself in exile in his own land. So we’ve come here today to dramatize a shameful \n",
      "condition. \n",
      "In a sense we’ve come to our nation’s capital to cash a check. When the architects of our Republic wrote \n",
      "the magnificent words of the Constitution and the Declaration of Independence, they were signing a \n",
      "promissory note to which every American was to fall heir. This note was a promise that all men—yes, \n",
      "black men as well as white men—would be guaranteed the unalienable rights of life, liberty and the \n",
      "pursuit of happiness. . . . \n",
      "We must forever conduct our struggle on the high plane of dignity and discipline. We must not allow our \n",
      "creative protests to degenerate into physical violence. . . . The marvelous new militancy which has \n",
      "engulfed the Negro community must not lead us to distrust all white people, for many of our white \n",
      "brothers, as evidenced by their presence here today, have come to realize that their destiny is tied up \n",
      "with our destiny. \n",
      ". . . We cannot walk alone. And as we walk we must make the pledge that we shall always march ahead. \n",
      "We cannot turn back. There are those who are asking the devotees of civil rights, “When will you be \n",
      "satisfied?” We can never be satisfied as long as the Negro is the victim of the unspeakable horrors of \n",
      "police brutality. \n",
      "We can never be satisfied as long as our bodies, heavy with the fatigue of travel, cannot gain lodging in \n",
      "the motels of the highways and the hotels of the cities. \n",
      "We cannot be satisfied as long as the Negro’s basic mobility is from a smaller ghetto to a larger one. We \n",
      "can never be satisfied as long as our children are stripped of their adulthood and robbed of their dignity \n",
      "by signs stating “For Whites Only.” \n",
      "We cannot be satisfied as long as the Negro in Mississippi cannot vote and the Negro in New York \n",
      "believes he has nothing for which to vote. \n",
      "No, no, we are not satisfied, and we will not be satisfied until justice rolls down like waters and \n",
      "righteousness like a mighty stream. . . . \n",
      "I say to you today, my friends, though, even though we face the difficulties of today and tomorrow, I still\n",
      "\n",
      "©2014 The Gilder Lehrman Institute of American History \n",
      "www.gilderlehrman.org \n",
      "have a dream. It is a dream deeply rooted in the American dream. I have a dream that one day this \n",
      "nation will rise up, live out the true meaning of its creed: “We hold these truths to be self-evident, that \n",
      "all men are created equal.” \n",
      "I have a dream that one day on the red hills of Georgia sons of former slaves and the sons of former \n",
      "slave-owners will be able to sit down together at the table of brotherhood. I have a dream that one day \n",
      "even the state of Mississippi, a state sweltering with the heat of injustice, sweltering with the heat of \n",
      "oppression, will be transformed into an oasis of freedom and justice. \n",
      "I have a dream that my four little children will one day live in a nation where they will not be judged by \n",
      "the color of their skin but by the content of their character. I have a dream . . . I have a dream that one \n",
      "day in Alabama, with its vicious racists, with its governor having his lips dripping with the words of \n",
      "interposition and nullification, one day right there in Alabama little black boys and black girls will be able \n",
      "to join hands with little white boys and white girls as sisters and brothers. \n",
      "I have a dream today . . . \n",
      "This will be the day when all of God’s children will be able to sing with new meaning. “My country, ’tis of \n",
      "thee, sweet land of liberty, of thee I sing. Land where my fathers died, land of the pilgrim’s pride, from \n",
      "every mountain side, let freedom ring.” And if America is to be a great nation, this must become true. So \n",
      "let freedom ring from the prodigious hilltops of New Hampshire. Let freedom ring from the mighty \n",
      "mountains of New York. Let freedom ring from the heightening Alleghenies of Pennsylvania. Let \n",
      "freedom ring from the snowcapped Rockies of Colorado. Let freedom ring from the curvaceous slopes of \n",
      "California. \n",
      "But not only that. Let freedom ring from Stone Mountain of Georgia. Let freedom ring from Lookout \n",
      "Mountain of Tennessee. Let freedom ring from every hill and molehill of Mississippi, from every \n",
      "mountain side. Let freedom ring . . . \n",
      "When we allow freedom to ring—when we let it ring from every city and every hamlet, from every state \n",
      "and every city, we will be able to speed up that day when all of God’s children, black men and white \n",
      "men, Jews and Gentiles, Protestants and Catholics, will be able to join hands and sing in the words of the \n",
      "old Negro spiritual, “Free at last, Free at last, Great God a-mighty, We are free at last.” \n",
      " \n",
      " \n",
      "Reprinted by arrangement with The Heirs to the Estate of Martin Luther King Jr., c/o Writers House as the \n",
      "proprietor New York, NY. Copyright: © 1963 Dr. Martin Luther King Jr. © renewed 1991 Coretta Scott King.\n",
      "\u001b[0m\n",
      "\n",
      "\u001b[1m> Finished chain.\u001b[0m\n",
      "\n",
      "\u001b[1m> Finished chain.\u001b[0m\n"
     ]
    },
    {
     "data": {
      "text/plain": [
       "'In his \"I Have a Dream\" speech, delivered at the March on Washington for Jobs and Freedom, Martin Luther King Jr. eloquently calls for an end to racism and segregation in the United States.  \\n\\nKing highlights the unfulfilled promise of the Emancipation Proclamation, emphasizing that despite its historical significance, African Americans still face widespread discrimination and injustice. He urges nonviolent resistance and appeals for unity between Black and white Americans, stressing that their fates are intertwined. \\n\\nThe speech culminates in King\\'s powerful dream of a future where his children and all Americans are judged by the content of their character, not the color of their skin. He envisions a nation where freedom rings from every corner, signifying true equality and justice for all. \\n\\n\\n'"
      ]
     },
     "execution_count": 38,
     "metadata": {},
     "output_type": "execute_result"
    }
   ],
   "source": [
    "chain=load_summarize_chain(llm,chain_type='stuff',prompt=prompt,verbose=True)\n",
    "output_summ = chain.run(docs)\n",
    "\n",
    "output_summ"
   ]
  },
  {
   "cell_type": "code",
   "execution_count": 39,
   "metadata": {},
   "outputs": [],
   "source": [
    "### Map reduce to summarize large documents\n",
    "\n",
    "from langchain.text_splitter import RecursiveCharacterTextSplitter"
   ]
  },
  {
   "cell_type": "code",
   "execution_count": 40,
   "metadata": {},
   "outputs": [
    {
     "data": {
      "text/plain": [
       "[Document(metadata={'source': 'ihaveadream.pdf', 'page': 0}, page_content='©2014 The Gilder Lehrman Institute of American History \\nwww.gilderlehrman.org \\n“I Have a Dream” Speech by the Rev. Martin Luther King Jr. at the “March on Washington,” \\n1963 (excerpts ) \\n \\nI am happy to join with you today in what will go down in history as the greatest demonstration for \\nfreedom in the history of our nation. \\nFive score years ago a great American in whose symbolic shadow we stand today signed the \\nEmancipation Proclamation. This momentous decree is a great beacon light of hope to millions of Negro \\nslaves who had been seared in the flames of withering injustice. It came as a joyous daybreak to end the \\nlong night of their captivity. But 100 years later the Negro still is not free. One hundred years later the \\nlife of the Negro is still badly crippled by the manacles of segregation and the chains of discrimination. \\nOne hundred years later the Negro lives on a lonely island of poverty in the midst of a vast ocean of \\nmaterial prosperity. One hundred years later the Negro is still languished in the corners of American \\nsociety and finds himself in exile in his own land. So we’ve come here today to dramatize a shameful \\ncondition. \\nIn a sense we’ve come to our nation’s capital to cash a check. When the architects of our Republic wrote \\nthe magnificent words of the Constitution and the Declaration of Independence, they were signing a \\npromissory note to which every American was to fall heir. This note was a promise that all men—yes, \\nblack men as well as white men—would be guaranteed the unalienable rights of life, liberty and the \\npursuit of happiness. . . . \\nWe must forever conduct our struggle on the high plane of dignity and discipline. We must not allow our \\ncreative protests to degenerate into physical violence. . . . The marvelous new militancy which has \\nengulfed the Negro community must not lead us to distrust all white people, for many of our white \\nbrothers, as evidenced by their presence here today, have come to realize that their destiny is tied up \\nwith our destiny. \\n. . . We cannot walk alone. And as we walk we must make the pledge that we shall always march ahead. \\nWe cannot turn back. There are those who are asking the devotees of civil rights, “When will you be \\nsatisfied?” We can never be satisfied as long as the Negro is the victim of the unspeakable horrors of \\npolice brutality. \\nWe can never be satisfied as long as our bodies, heavy with the fatigue of travel, cannot gain lodging in \\nthe motels of the highways and the hotels of the cities. \\nWe cannot be satisfied as long as the Negro’s basic mobility is from a smaller ghetto to a larger one. We \\ncan never be satisfied as long as our children are stripped of their adulthood and robbed of their dignity \\nby signs stating “For Whites Only.” \\nWe cannot be satisfied as long as the Negro in Mississippi cannot vote and the Negro in New York \\nbelieves he has nothing for which to vote. \\nNo, no, we are not satisfied, and we will not be satisfied until justice rolls down like waters and \\nrighteousness like a mighty stream. . . . \\nI say to you today, my friends, though, even though we face the difficulties of today and tomorrow, I still'),\n",
       " Document(metadata={'source': 'ihaveadream.pdf', 'page': 1}, page_content='©2014 The Gilder Lehrman Institute of American History \\nwww.gilderlehrman.org \\nhave a dream. It is a dream deeply rooted in the American dream. I have a dream that one day this \\nnation will rise up, live out the true meaning of its creed: “We hold these truths to be self-evident, that \\nall men are created equal.” \\nI have a dream that one day on the red hills of Georgia sons of former slaves and the sons of former \\nslave-owners will be able to sit down together at the table of brotherhood. I have a dream that one day \\neven the state of Mississippi, a state sweltering with the heat of injustice, sweltering with the heat of \\noppression, will be transformed into an oasis of freedom and justice. \\nI have a dream that my four little children will one day live in a nation where they will not be judged by \\nthe color of their skin but by the content of their character. I have a dream . . . I have a dream that one \\nday in Alabama, with its vicious racists, with its governor having his lips dripping with the words of \\ninterposition and nullification, one day right there in Alabama little black boys and black girls will be able \\nto join hands with little white boys and white girls as sisters and brothers. \\nI have a dream today . . . \\nThis will be the day when all of God’s children will be able to sing with new meaning. “My country, ’tis of \\nthee, sweet land of liberty, of thee I sing. Land where my fathers died, land of the pilgrim’s pride, from \\nevery mountain side, let freedom ring.” And if America is to be a great nation, this must become true. So \\nlet freedom ring from the prodigious hilltops of New Hampshire. Let freedom ring from the mighty \\nmountains of New York. Let freedom ring from the heightening Alleghenies of Pennsylvania. Let \\nfreedom ring from the snowcapped Rockies of Colorado. Let freedom ring from the curvaceous slopes of \\nCalifornia. \\nBut not only that. Let freedom ring from Stone Mountain of Georgia. Let freedom ring from Lookout \\nMountain of Tennessee. Let freedom ring from every hill and molehill of Mississippi, from every \\nmountain side. Let freedom ring . . . \\nWhen we allow freedom to ring—when we let it ring from every city and every hamlet, from every state \\nand every city, we will be able to speed up that day when all of God’s children, black men and white \\nmen, Jews and Gentiles, Protestants and Catholics, will be able to join hands and sing in the words of the \\nold Negro spiritual, “Free at last, Free at last, Great God a-mighty, We are free at last.” \\n \\n \\nReprinted by arrangement with The Heirs to the Estate of Martin Luther King Jr., c/o Writers House as the \\nproprietor New York, NY. Copyright: © 1963 Dr. Martin Luther King Jr. © renewed 1991 Coretta Scott King.')]"
      ]
     },
     "execution_count": 40,
     "metadata": {},
     "output_type": "execute_result"
    }
   ],
   "source": [
    "docs"
   ]
  },
  {
   "cell_type": "code",
   "execution_count": 43,
   "metadata": {},
   "outputs": [
    {
     "data": {
      "text/plain": [
       "[Document(metadata={'source': 'ihaveadream.pdf', 'page': 0}, page_content='©2014 The Gilder Lehrman Institute of American History \\nwww.gilderlehrman.org \\n“I Have a Dream” Speech by the Rev. Martin Luther King Jr. at the “March on Washington,” \\n1963 (excerpts ) \\n \\nI am happy to join with you today in what will go down in history as the greatest demonstration for \\nfreedom in the history of our nation. \\nFive score years ago a great American in whose symbolic shadow we stand today signed the \\nEmancipation Proclamation. This momentous decree is a great beacon light of hope to millions of Negro \\nslaves who had been seared in the flames of withering injustice. It came as a joyous daybreak to end the \\nlong night of their captivity. But 100 years later the Negro still is not free. One hundred years later the \\nlife of the Negro is still badly crippled by the manacles of segregation and the chains of discrimination. \\nOne hundred years later the Negro lives on a lonely island of poverty in the midst of a vast ocean of \\nmaterial prosperity. One hundred years later the Negro is still languished in the corners of American \\nsociety and finds himself in exile in his own land. So we’ve come here today to dramatize a shameful \\ncondition. \\nIn a sense we’ve come to our nation’s capital to cash a check. When the architects of our Republic wrote \\nthe magnificent words of the Constitution and the Declaration of Independence, they were signing a \\npromissory note to which every American was to fall heir. This note was a promise that all men—yes, \\nblack men as well as white men—would be guaranteed the unalienable rights of life, liberty and the \\npursuit of happiness. . . . \\nWe must forever conduct our struggle on the high plane of dignity and discipline. We must not allow our \\ncreative protests to degenerate into physical violence. . . . The marvelous new militancy which has \\nengulfed the Negro community must not lead us to distrust all white people, for many of our white'),\n",
       " Document(metadata={'source': 'ihaveadream.pdf', 'page': 0}, page_content='engulfed the Negro community must not lead us to distrust all white people, for many of our white \\nbrothers, as evidenced by their presence here today, have come to realize that their destiny is tied up \\nwith our destiny. \\n. . . We cannot walk alone. And as we walk we must make the pledge that we shall always march ahead. \\nWe cannot turn back. There are those who are asking the devotees of civil rights, “When will you be \\nsatisfied?” We can never be satisfied as long as the Negro is the victim of the unspeakable horrors of \\npolice brutality. \\nWe can never be satisfied as long as our bodies, heavy with the fatigue of travel, cannot gain lodging in \\nthe motels of the highways and the hotels of the cities. \\nWe cannot be satisfied as long as the Negro’s basic mobility is from a smaller ghetto to a larger one. We \\ncan never be satisfied as long as our children are stripped of their adulthood and robbed of their dignity \\nby signs stating “For Whites Only.” \\nWe cannot be satisfied as long as the Negro in Mississippi cannot vote and the Negro in New York \\nbelieves he has nothing for which to vote. \\nNo, no, we are not satisfied, and we will not be satisfied until justice rolls down like waters and \\nrighteousness like a mighty stream. . . . \\nI say to you today, my friends, though, even though we face the difficulties of today and tomorrow, I still'),\n",
       " Document(metadata={'source': 'ihaveadream.pdf', 'page': 1}, page_content='©2014 The Gilder Lehrman Institute of American History \\nwww.gilderlehrman.org \\nhave a dream. It is a dream deeply rooted in the American dream. I have a dream that one day this \\nnation will rise up, live out the true meaning of its creed: “We hold these truths to be self-evident, that \\nall men are created equal.” \\nI have a dream that one day on the red hills of Georgia sons of former slaves and the sons of former \\nslave-owners will be able to sit down together at the table of brotherhood. I have a dream that one day \\neven the state of Mississippi, a state sweltering with the heat of injustice, sweltering with the heat of \\noppression, will be transformed into an oasis of freedom and justice. \\nI have a dream that my four little children will one day live in a nation where they will not be judged by \\nthe color of their skin but by the content of their character. I have a dream . . . I have a dream that one \\nday in Alabama, with its vicious racists, with its governor having his lips dripping with the words of \\ninterposition and nullification, one day right there in Alabama little black boys and black girls will be able \\nto join hands with little white boys and white girls as sisters and brothers. \\nI have a dream today . . . \\nThis will be the day when all of God’s children will be able to sing with new meaning. “My country, ’tis of \\nthee, sweet land of liberty, of thee I sing. Land where my fathers died, land of the pilgrim’s pride, from \\nevery mountain side, let freedom ring.” And if America is to be a great nation, this must become true. So \\nlet freedom ring from the prodigious hilltops of New Hampshire. Let freedom ring from the mighty \\nmountains of New York. Let freedom ring from the heightening Alleghenies of Pennsylvania. Let \\nfreedom ring from the snowcapped Rockies of Colorado. Let freedom ring from the curvaceous slopes of \\nCalifornia. \\nBut not only that. Let freedom ring from Stone Mountain of Georgia. Let freedom ring from Lookout'),\n",
       " Document(metadata={'source': 'ihaveadream.pdf', 'page': 1}, page_content='But not only that. Let freedom ring from Stone Mountain of Georgia. Let freedom ring from Lookout \\nMountain of Tennessee. Let freedom ring from every hill and molehill of Mississippi, from every \\nmountain side. Let freedom ring . . . \\nWhen we allow freedom to ring—when we let it ring from every city and every hamlet, from every state \\nand every city, we will be able to speed up that day when all of God’s children, black men and white \\nmen, Jews and Gentiles, Protestants and Catholics, will be able to join hands and sing in the words of the \\nold Negro spiritual, “Free at last, Free at last, Great God a-mighty, We are free at last.” \\n \\n \\nReprinted by arrangement with The Heirs to the Estate of Martin Luther King Jr., c/o Writers House as the \\nproprietor New York, NY. Copyright: © 1963 Dr. Martin Luther King Jr. © renewed 1991 Coretta Scott King.')]"
      ]
     },
     "execution_count": 43,
     "metadata": {},
     "output_type": "execute_result"
    }
   ],
   "source": [
    "text_splitter = RecursiveCharacterTextSplitter(chunk_size=2000, chunk_overlap=100).split_documents(docs)\n",
    "text_splitter"
   ]
  },
  {
   "cell_type": "code",
   "execution_count": 44,
   "metadata": {},
   "outputs": [
    {
     "data": {
      "text/plain": [
       "4"
      ]
     },
     "execution_count": 44,
     "metadata": {},
     "output_type": "execute_result"
    }
   ],
   "source": [
    "len(text_splitter)"
   ]
  },
  {
   "cell_type": "code",
   "execution_count": 46,
   "metadata": {},
   "outputs": [],
   "source": [
    "chunk_prompt=\"\"\" \n",
    "Please summarize the below speech:\n",
    "Speech:'{text}'\n",
    "Summary:\n",
    "\"\"\"\n",
    "\n",
    "map_prompt_template = PromptTemplate(input_variable=['text'],\n",
    "                                     template = chunk_prompt)"
   ]
  },
  {
   "cell_type": "code",
   "execution_count": 47,
   "metadata": {},
   "outputs": [],
   "source": [
    "final_prompt=''' \n",
    "Provide the final summary of the entire speech with these important points.\n",
    "Add a motivation title, start the precise summary with an introduction and provide the summary in number points for the speech.\n",
    "Speech:{text}\n",
    "'''\n",
    "\n",
    "final_prompt_template = PromptTemplate(input_variables=['text'],template=final_prompt)"
   ]
  },
  {
   "cell_type": "code",
   "execution_count": 49,
   "metadata": {},
   "outputs": [
    {
     "name": "stdout",
     "output_type": "stream",
     "text": [
      "\n",
      "\n",
      "\u001b[1m> Entering new MapReduceDocumentsChain chain...\u001b[0m\n",
      "\n",
      "\n",
      "\u001b[1m> Entering new LLMChain chain...\u001b[0m\n",
      "Prompt after formatting:\n",
      "\u001b[32;1m\u001b[1;3m \n",
      "Please summarize the below speech:\n",
      "Speech:'©2014 The Gilder Lehrman Institute of American History \n",
      "www.gilderlehrman.org \n",
      "“I Have a Dream” Speech by the Rev. Martin Luther King Jr. at the “March on Washington,” \n",
      "1963 (excerpts ) \n",
      " \n",
      "I am happy to join with you today in what will go down in history as the greatest demonstration for \n",
      "freedom in the history of our nation. \n",
      "Five score years ago a great American in whose symbolic shadow we stand today signed the \n",
      "Emancipation Proclamation. This momentous decree is a great beacon light of hope to millions of Negro \n",
      "slaves who had been seared in the flames of withering injustice. It came as a joyous daybreak to end the \n",
      "long night of their captivity. But 100 years later the Negro still is not free. One hundred years later the \n",
      "life of the Negro is still badly crippled by the manacles of segregation and the chains of discrimination. \n",
      "One hundred years later the Negro lives on a lonely island of poverty in the midst of a vast ocean of \n",
      "material prosperity. One hundred years later the Negro is still languished in the corners of American \n",
      "society and finds himself in exile in his own land. So we’ve come here today to dramatize a shameful \n",
      "condition. \n",
      "In a sense we’ve come to our nation’s capital to cash a check. When the architects of our Republic wrote \n",
      "the magnificent words of the Constitution and the Declaration of Independence, they were signing a \n",
      "promissory note to which every American was to fall heir. This note was a promise that all men—yes, \n",
      "black men as well as white men—would be guaranteed the unalienable rights of life, liberty and the \n",
      "pursuit of happiness. . . . \n",
      "We must forever conduct our struggle on the high plane of dignity and discipline. We must not allow our \n",
      "creative protests to degenerate into physical violence. . . . The marvelous new militancy which has \n",
      "engulfed the Negro community must not lead us to distrust all white people, for many of our white \n",
      "brothers, as evidenced by their presence here today, have come to realize that their destiny is tied up \n",
      "with our destiny. \n",
      ". . . We cannot walk alone. And as we walk we must make the pledge that we shall always march ahead. \n",
      "We cannot turn back. There are those who are asking the devotees of civil rights, “When will you be \n",
      "satisfied?” We can never be satisfied as long as the Negro is the victim of the unspeakable horrors of \n",
      "police brutality. \n",
      "We can never be satisfied as long as our bodies, heavy with the fatigue of travel, cannot gain lodging in \n",
      "the motels of the highways and the hotels of the cities. \n",
      "We cannot be satisfied as long as the Negro’s basic mobility is from a smaller ghetto to a larger one. We \n",
      "can never be satisfied as long as our children are stripped of their adulthood and robbed of their dignity \n",
      "by signs stating “For Whites Only.” \n",
      "We cannot be satisfied as long as the Negro in Mississippi cannot vote and the Negro in New York \n",
      "believes he has nothing for which to vote. \n",
      "No, no, we are not satisfied, and we will not be satisfied until justice rolls down like waters and \n",
      "righteousness like a mighty stream. . . . \n",
      "I say to you today, my friends, though, even though we face the difficulties of today and tomorrow, I still'\n",
      "Summary:\n",
      "\u001b[0m\n",
      "Prompt after formatting:\n",
      "\u001b[32;1m\u001b[1;3m \n",
      "Please summarize the below speech:\n",
      "Speech:'©2014 The Gilder Lehrman Institute of American History \n",
      "www.gilderlehrman.org \n",
      "have a dream. It is a dream deeply rooted in the American dream. I have a dream that one day this \n",
      "nation will rise up, live out the true meaning of its creed: “We hold these truths to be self-evident, that \n",
      "all men are created equal.” \n",
      "I have a dream that one day on the red hills of Georgia sons of former slaves and the sons of former \n",
      "slave-owners will be able to sit down together at the table of brotherhood. I have a dream that one day \n",
      "even the state of Mississippi, a state sweltering with the heat of injustice, sweltering with the heat of \n",
      "oppression, will be transformed into an oasis of freedom and justice. \n",
      "I have a dream that my four little children will one day live in a nation where they will not be judged by \n",
      "the color of their skin but by the content of their character. I have a dream . . . I have a dream that one \n",
      "day in Alabama, with its vicious racists, with its governor having his lips dripping with the words of \n",
      "interposition and nullification, one day right there in Alabama little black boys and black girls will be able \n",
      "to join hands with little white boys and white girls as sisters and brothers. \n",
      "I have a dream today . . . \n",
      "This will be the day when all of God’s children will be able to sing with new meaning. “My country, ’tis of \n",
      "thee, sweet land of liberty, of thee I sing. Land where my fathers died, land of the pilgrim’s pride, from \n",
      "every mountain side, let freedom ring.” And if America is to be a great nation, this must become true. So \n",
      "let freedom ring from the prodigious hilltops of New Hampshire. Let freedom ring from the mighty \n",
      "mountains of New York. Let freedom ring from the heightening Alleghenies of Pennsylvania. Let \n",
      "freedom ring from the snowcapped Rockies of Colorado. Let freedom ring from the curvaceous slopes of \n",
      "California. \n",
      "But not only that. Let freedom ring from Stone Mountain of Georgia. Let freedom ring from Lookout \n",
      "Mountain of Tennessee. Let freedom ring from every hill and molehill of Mississippi, from every \n",
      "mountain side. Let freedom ring . . . \n",
      "When we allow freedom to ring—when we let it ring from every city and every hamlet, from every state \n",
      "and every city, we will be able to speed up that day when all of God’s children, black men and white \n",
      "men, Jews and Gentiles, Protestants and Catholics, will be able to join hands and sing in the words of the \n",
      "old Negro spiritual, “Free at last, Free at last, Great God a-mighty, We are free at last.” \n",
      " \n",
      " \n",
      "Reprinted by arrangement with The Heirs to the Estate of Martin Luther King Jr., c/o Writers House as the \n",
      "proprietor New York, NY. Copyright: © 1963 Dr. Martin Luther King Jr. © renewed 1991 Coretta Scott King.'\n",
      "Summary:\n",
      "\u001b[0m\n",
      "\n",
      "\u001b[1m> Finished chain.\u001b[0m\n",
      "\n",
      "\n",
      "\u001b[1m> Entering new LLMChain chain...\u001b[0m\n",
      "Prompt after formatting:\n",
      "\u001b[32;1m\u001b[1;3m \n",
      "Provide the final summary of the entire speech with these important points.\n",
      "Add a motivation title, start the precise summary with an introduction and provide the summary in number points for the speech.\n",
      "Speech:In his iconic \"I Have a Dream\" speech, delivered during the March on Washington for Jobs and Freedom in 1963, Martin Luther King Jr. powerfully articulates the ongoing struggle for racial equality in America.\n",
      "\n",
      "King begins by referencing the Emancipation Proclamation, highlighting the unfulfilled promise of freedom for Black Americans a century later. He paints a stark picture of the continued injustices faced by Black people, including segregation, poverty, and discrimination.\n",
      "\n",
      "The speech emphasizes the urgency for change, framing the civil rights movement as a demand for the full realization of the promises enshrined in the Constitution and Declaration of Independence. King calls for a nonviolent struggle, urging his followers to maintain dignity and discipline in the face of adversity. He acknowledges the growing support from white allies, emphasizing the interconnectedness of the struggle for Black liberation and the pursuit of justice for all.\n",
      "\n",
      "Through powerful repetition and evocative imagery, King outlines the deep-seated grievances that fuel the movement, from police brutality to the denial of basic rights like voting and access to public accommodations. He declares that the fight for equality will continue until justice prevails, leaving listeners with an unforgettable call for a future where all Americans are truly free. \n",
      "\n",
      "\n",
      "\n",
      "\n",
      "This is an excerpt from Martin Luther King Jr.'s iconic \"I Have a Dream\" speech, delivered during the March on Washington for Jobs and Freedom in 1963. \n",
      "\n",
      "King powerfully articulates his dream of a nation where racial equality is a reality, not just an ideal. He envisions a future where Black and white Americans live together in brotherhood, free from the shackles of segregation and oppression. He draws upon the ideals of the American Declaration of Independence, emphasizing the self-evident truth that all men are created equal.\n",
      "\n",
      "The speech is filled with vivid imagery and powerful calls for justice. King paints a picture of a transformed America, where his children will be judged by the content of their character, not the color of their skin. He calls for freedom to \"ring\" from every corner of the country, symbolizing the spread of equality and justice throughout the land.\n",
      "\n",
      "Ultimately, King's dream is one of a fully united America, where people of all races can finally live together in peace and freedom. \n",
      "\n",
      "\n",
      "Let me know if you'd like me to elaborate on any specific aspect of the speech! \n",
      "\n",
      "\n",
      "\u001b[0m\n",
      "\n",
      "\u001b[1m> Finished chain.\u001b[0m\n",
      "\n",
      "\u001b[1m> Finished chain.\u001b[0m\n"
     ]
    },
    {
     "data": {
      "text/plain": [
       "'##  A Dream of Equality:  King\\'s Vision for America\\n\\nMartin Luther King Jr.\\'s \"I Have a Dream\" speech, delivered at the March on Washington for Jobs and Freedom, remains a landmark moment in the fight for racial equality.  King masterfully blends historical context, personal experience, and soaring rhetoric to articulate his vision of a transformed America. Here are the key points of his powerful message:\\n\\n1. **Unfulfilled Promise:** King begins by reminding his audience of the Emancipation Proclamation, highlighting the stark reality that a century later, Black Americans are still denied their fundamental rights and freedoms. \\n2. **Continuing Injustice:** He paints a vivid picture of the daily struggles faced by Black people, including segregation, economic inequality, and systemic discrimination in all aspects of life. \\n3. **Urgency for Change:** King emphasizes the urgency of the movement, framing it as a demand for the full realization of the promises enshrined in the Constitution and Declaration of Independence.  He calls for a nonviolent struggle, urging his followers to remain steadfast in their pursuit of justice.\\n4. **White Allies and Interconnectedness:** He acknowledges the growing support from white allies, emphasizing that the fight for Black liberation is inextricably linked to the pursuit of justice for all Americans. \\n5. **Deep-Seated Grievances:** Through powerful repetition and evocative imagery, King outlines the specific injustices that fuel the movement, from police brutality to the denial of basic rights like voting and access to public accommodations. \\n6. **Vision of Equality:** King paints a hopeful picture of a future where his children will be judged by the content of their character, not the color of their skin. He envisions a nation where freedom \"rings\" from every corner, signifying the triumph of equality and justice for all. \\n7. **Commitment to Justice:** King concludes with an unwavering commitment to continuing the fight for equality until justice prevails, leaving his audience with an unforgettable call for a future where all Americans are truly free.\\n\\n\\n\\nKing\\'s \"I Have a Dream\" speech is not just a historical document; it is a timeless call for human dignity, equality, and justice that continues to resonate deeply today. \\n'"
      ]
     },
     "execution_count": 49,
     "metadata": {},
     "output_type": "execute_result"
    }
   ],
   "source": [
    "summary_chain=load_summarize_chain(\n",
    "    llm=llm,\n",
    "    chain_type=\"map_reduce\",\n",
    "    map_prompt = map_prompt_template,\n",
    "    combine_prompt =final_prompt_template,\n",
    "    verbose=True\n",
    ")\n",
    "\n",
    "output = summary_chain.run(docs)\n",
    "output"
   ]
  },
  {
   "cell_type": "markdown",
   "metadata": {},
   "source": [
    "# Refine Chain Summarization"
   ]
  },
  {
   "cell_type": "code",
   "execution_count": 50,
   "metadata": {},
   "outputs": [
    {
     "name": "stdout",
     "output_type": "stream",
     "text": [
      "\n",
      "\n",
      "\u001b[1m> Entering new RefineDocumentsChain chain...\u001b[0m\n",
      "\n",
      "\n",
      "\u001b[1m> Entering new LLMChain chain...\u001b[0m\n",
      "Prompt after formatting:\n",
      "\u001b[32;1m\u001b[1;3mWrite a concise summary of the following:\n",
      "\n",
      "\n",
      "\"©2014 The Gilder Lehrman Institute of American History \n",
      "www.gilderlehrman.org \n",
      "“I Have a Dream” Speech by the Rev. Martin Luther King Jr. at the “March on Washington,” \n",
      "1963 (excerpts ) \n",
      " \n",
      "I am happy to join with you today in what will go down in history as the greatest demonstration for \n",
      "freedom in the history of our nation. \n",
      "Five score years ago a great American in whose symbolic shadow we stand today signed the \n",
      "Emancipation Proclamation. This momentous decree is a great beacon light of hope to millions of Negro \n",
      "slaves who had been seared in the flames of withering injustice. It came as a joyous daybreak to end the \n",
      "long night of their captivity. But 100 years later the Negro still is not free. One hundred years later the \n",
      "life of the Negro is still badly crippled by the manacles of segregation and the chains of discrimination. \n",
      "One hundred years later the Negro lives on a lonely island of poverty in the midst of a vast ocean of \n",
      "material prosperity. One hundred years later the Negro is still languished in the corners of American \n",
      "society and finds himself in exile in his own land. So we’ve come here today to dramatize a shameful \n",
      "condition. \n",
      "In a sense we’ve come to our nation’s capital to cash a check. When the architects of our Republic wrote \n",
      "the magnificent words of the Constitution and the Declaration of Independence, they were signing a \n",
      "promissory note to which every American was to fall heir. This note was a promise that all men—yes, \n",
      "black men as well as white men—would be guaranteed the unalienable rights of life, liberty and the \n",
      "pursuit of happiness. . . . \n",
      "We must forever conduct our struggle on the high plane of dignity and discipline. We must not allow our \n",
      "creative protests to degenerate into physical violence. . . . The marvelous new militancy which has \n",
      "engulfed the Negro community must not lead us to distrust all white people, for many of our white \n",
      "brothers, as evidenced by their presence here today, have come to realize that their destiny is tied up \n",
      "with our destiny. \n",
      ". . . We cannot walk alone. And as we walk we must make the pledge that we shall always march ahead. \n",
      "We cannot turn back. There are those who are asking the devotees of civil rights, “When will you be \n",
      "satisfied?” We can never be satisfied as long as the Negro is the victim of the unspeakable horrors of \n",
      "police brutality. \n",
      "We can never be satisfied as long as our bodies, heavy with the fatigue of travel, cannot gain lodging in \n",
      "the motels of the highways and the hotels of the cities. \n",
      "We cannot be satisfied as long as the Negro’s basic mobility is from a smaller ghetto to a larger one. We \n",
      "can never be satisfied as long as our children are stripped of their adulthood and robbed of their dignity \n",
      "by signs stating “For Whites Only.” \n",
      "We cannot be satisfied as long as the Negro in Mississippi cannot vote and the Negro in New York \n",
      "believes he has nothing for which to vote. \n",
      "No, no, we are not satisfied, and we will not be satisfied until justice rolls down like waters and \n",
      "righteousness like a mighty stream. . . . \n",
      "I say to you today, my friends, though, even though we face the difficulties of today and tomorrow, I still\"\n",
      "\n",
      "\n",
      "CONCISE SUMMARY:\u001b[0m\n",
      "\n",
      "\u001b[1m> Finished chain.\u001b[0m\n",
      "\n",
      "\n",
      "\u001b[1m> Entering new LLMChain chain...\u001b[0m\n",
      "Prompt after formatting:\n",
      "\u001b[32;1m\u001b[1;3mYour job is to produce a final summary.\n",
      "We have provided an existing summary up to a certain point: In his \"I Have a Dream\" speech, Martin Luther King Jr. addresses the ongoing struggle for racial equality in America, 100 years after the Emancipation Proclamation.  He highlights the continued injustices faced by Black Americans, despite the promise of freedom and equality enshrined in the Constitution. King calls for nonviolent resistance and emphasizes the interconnectedness of Black and white Americans, urging them to work together for a just society.   He declares that the fight for civil rights will continue until true equality is achieved, symbolized by justice flowing \"like waters and righteousness like a mighty stream.\" \n",
      "\n",
      "\n",
      "\n",
      "We have the opportunity to refine the existing summary (only if needed) with some more context below.\n",
      "------------\n",
      "©2014 The Gilder Lehrman Institute of American History \n",
      "www.gilderlehrman.org \n",
      "have a dream. It is a dream deeply rooted in the American dream. I have a dream that one day this \n",
      "nation will rise up, live out the true meaning of its creed: “We hold these truths to be self-evident, that \n",
      "all men are created equal.” \n",
      "I have a dream that one day on the red hills of Georgia sons of former slaves and the sons of former \n",
      "slave-owners will be able to sit down together at the table of brotherhood. I have a dream that one day \n",
      "even the state of Mississippi, a state sweltering with the heat of injustice, sweltering with the heat of \n",
      "oppression, will be transformed into an oasis of freedom and justice. \n",
      "I have a dream that my four little children will one day live in a nation where they will not be judged by \n",
      "the color of their skin but by the content of their character. I have a dream . . . I have a dream that one \n",
      "day in Alabama, with its vicious racists, with its governor having his lips dripping with the words of \n",
      "interposition and nullification, one day right there in Alabama little black boys and black girls will be able \n",
      "to join hands with little white boys and white girls as sisters and brothers. \n",
      "I have a dream today . . . \n",
      "This will be the day when all of God’s children will be able to sing with new meaning. “My country, ’tis of \n",
      "thee, sweet land of liberty, of thee I sing. Land where my fathers died, land of the pilgrim’s pride, from \n",
      "every mountain side, let freedom ring.” And if America is to be a great nation, this must become true. So \n",
      "let freedom ring from the prodigious hilltops of New Hampshire. Let freedom ring from the mighty \n",
      "mountains of New York. Let freedom ring from the heightening Alleghenies of Pennsylvania. Let \n",
      "freedom ring from the snowcapped Rockies of Colorado. Let freedom ring from the curvaceous slopes of \n",
      "California. \n",
      "But not only that. Let freedom ring from Stone Mountain of Georgia. Let freedom ring from Lookout \n",
      "Mountain of Tennessee. Let freedom ring from every hill and molehill of Mississippi, from every \n",
      "mountain side. Let freedom ring . . . \n",
      "When we allow freedom to ring—when we let it ring from every city and every hamlet, from every state \n",
      "and every city, we will be able to speed up that day when all of God’s children, black men and white \n",
      "men, Jews and Gentiles, Protestants and Catholics, will be able to join hands and sing in the words of the \n",
      "old Negro spiritual, “Free at last, Free at last, Great God a-mighty, We are free at last.” \n",
      " \n",
      " \n",
      "Reprinted by arrangement with The Heirs to the Estate of Martin Luther King Jr., c/o Writers House as the \n",
      "proprietor New York, NY. Copyright: © 1963 Dr. Martin Luther King Jr. © renewed 1991 Coretta Scott King.\n",
      "------------\n",
      "Given the new context, refine the original summary.\n",
      "If the context isn't useful, return the original summary.\u001b[0m\n",
      "\n",
      "\u001b[1m> Finished chain.\u001b[0m\n",
      "\n",
      "\u001b[1m> Finished chain.\u001b[0m\n"
     ]
    }
   ],
   "source": [
    "chain=load_summarize_chain(\n",
    "    llm=llm,\n",
    "    chain_type=\"refine\",\n",
    "    verbose=True\n",
    ")\n",
    "\n",
    "output_summary= chain.run(docs)"
   ]
  },
  {
   "cell_type": "code",
   "execution_count": 51,
   "metadata": {},
   "outputs": [
    {
     "data": {
      "text/plain": [
       "'In his \"I Have a Dream\" speech, Martin Luther King Jr. addresses the ongoing struggle for racial equality in America, 100 years after the Emancipation Proclamation.  He highlights the continued injustices faced by Black Americans, despite the promise of freedom and equality enshrined in the Constitution. King paints a vivid picture of his dream for a future where racial barriers are broken down, envisioning Black and white Americans sitting together at the table of brotherhood, and his children judged not by the color of their skin but by the content of their character. He calls for nonviolent resistance and emphasizes the interconnectedness of Black and white Americans, urging them to work together for a just society. King expresses his hope that this dream will become a reality, symbolized by freedom ringing \"from every hill and molehill of Mississippi,\" and all of God\\'s children joining hands to sing \"Free at last.\"  The fight for civil rights, he declares, will continue until true equality is achieved. \\n\\n\\n'"
      ]
     },
     "execution_count": 51,
     "metadata": {},
     "output_type": "execute_result"
    }
   ],
   "source": [
    "output_summary"
   ]
  },
  {
   "cell_type": "code",
   "execution_count": 52,
   "metadata": {},
   "outputs": [
    {
     "name": "stdout",
     "output_type": "stream",
     "text": [
      "pytube Error: Exception while accessing title of https://youtube.com/watch?v=HtPVbO6JFYw. Please file a bug report at https://github.com/pytube/pytube\n"
     ]
    }
   ],
   "source": [
    "from pytube import YouTube\n",
    "\n",
    "try:\n",
    "    yt = YouTube(\"https://www.youtube.com/watch?v=HtPVbO6JFYw\")  # Replace with a valid URL\n",
    "    print(yt.title)  # Try accessing the title\n",
    "    print(yt.streams) # Print available streams\n",
    "except Exception as e:\n",
    "    print(f\"pytube Error: {e}\")"
   ]
  },
  {
   "cell_type": "code",
   "execution_count": null,
   "metadata": {},
   "outputs": [],
   "source": []
  }
 ],
 "metadata": {
  "kernelspec": {
   "display_name": "Python 3",
   "language": "python",
   "name": "python3"
  },
  "language_info": {
   "codemirror_mode": {
    "name": "ipython",
    "version": 3
   },
   "file_extension": ".py",
   "mimetype": "text/x-python",
   "name": "python",
   "nbconvert_exporter": "python",
   "pygments_lexer": "ipython3",
   "version": "3.10.16"
  }
 },
 "nbformat": 4,
 "nbformat_minor": 2
}
